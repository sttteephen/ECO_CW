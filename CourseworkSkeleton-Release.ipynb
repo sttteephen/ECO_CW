{
 "cells": [
  {
   "cell_type": "markdown",
   "metadata": {},
   "source": [
    "# Coursework: The Museum Protection Problem"
   ]
  },
  {
   "cell_type": "code",
   "execution_count": null,
   "metadata": {},
   "outputs": [],
   "source": [
    "#Run if necessary\n",
    "!pip install deap"
   ]
  },
  {
   "cell_type": "markdown",
   "metadata": {},
   "source": [
    "## Import relevant libraries"
   ]
  },
  {
   "cell_type": "code",
   "execution_count": 1,
   "metadata": {},
   "outputs": [],
   "source": [
    "import numpy as np\n",
    "import subprocess\n",
    "import os\n",
    "import pandas as pd\n",
    "import matplotlib.pyplot as plt\n",
    "import random\n",
    "import array\n",
    "import csv\n",
    "\n",
    "\n",
    "# import deap packages required\n",
    "from deap import algorithms\n",
    "from deap import base\n",
    "from deap import creator\n",
    "from deap import tools"
   ]
  },
  {
   "cell_type": "markdown",
   "metadata": {},
   "source": [
    "## Set up  \n",
    "\n",
    "Depending on the instance you are trying to solve, sest the following parameters\n"
   ]
  },
  {
   "cell_type": "code",
   "execution_count": 2,
   "metadata": {},
   "outputs": [],
   "source": [
    "# Windows and Mac: just set the path to the instance\n",
    "myinst=\"/path_to_instance/WallsTest1.csv\"\n",
    "instance_file = myinst  # the name of the file specifying the layout - use \"\" to represent an empty grid to an empty grid\n",
    "\n",
    "#  COLAB: upload the instance to colab and\n",
    "# instance_file = \"./name_of_instance_file\"\n",
    "\n",
    "nb_cameras = 5 # number of cameras (specificed in the instance definition)\n",
    "instance_size  = 100 # number of cells per dimension, i.e total number of cells in the grid is instance_size*instance_size\n",
    "\n",
    "num_cells = instance_size*instance_size # total number of cells in the grid\n",
    "\n"
   ]
  },
  {
   "cell_type": "code",
   "execution_count": 3,
   "metadata": {},
   "outputs": [],
   "source": [
    "\n",
    "# create a grid that specifies the walls that can be used later to check that no cameras are positioned on walls\n",
    "\n",
    "walls = np.zeros(instance_size*instance_size)\n",
    "\n",
    "\n",
    "with open(myinst) as csv_file:\n",
    "    csv_reader = csv.reader(csv_file, delimiter=',')\n",
    "    for line in csv_reader:\n",
    "        column=int(line[0])\n",
    "        row=int(line[1])\n",
    "        oneD_index = (row * instance_size) + column;\n",
    "        walls[oneD_index]=1\n",
    "        \n",
    "\n",
    "\n"
   ]
  },
  {
   "cell_type": "markdown",
   "metadata": {},
   "source": [
    "## Set up the fitness calculations \n",
    "\n",
    "This calls an external executable to return a fitness value. You cannot modify the code in this executable. \n",
    "\n",
    "\n",
    "1. If you are running code using **Google Colab**, you neyou must upload the executables called \"bit_cam_napier_colab\"  and \"bit_cam_napier_visualisation_colab\" to Colab and uncomment the line of code at tge top of the next cell\n",
    "\n",
    "2. If you are running on **Windows using Anaconda**, then your code needs to call the executables \"bit_cam_napier_windows.exe\" and \"bit_cam_napier_visualisation_windows.exe\" - you need to specify the exact path to these on your system in the code below\n",
    "\n",
    "3. If you are running on **Mac using Anaconda**, then your code needs to call the executables \"bit_cam_napier_mac.exe\" and \"bit_cam_napier_visualisation_mac.exe\" - you need to specify the exact path to these on your system in the code below\n",
    "\n",
    "The call to the external function is wrapped inside an evaluation function called **eval_function()** .. this has the standard form used by DEAP and should be registered with the toolbox as usual. Read the following carefully.    You can any code you wish inside this function but it must always call the external *objective_function()* with a valid solution. This is defined below\n",
    "\n",
    "\n",
    " - The external \"objective_function\" needs to be passed a list of length (where n is the number of cells) where each value is 0 or 1.\n",
    "- There must be exactly c values set to 1, where c= number of cameras\n",
    "- Regardless of the representation you use, **you must turn a DEAP individual into a list of the form specified above** before calling the objective_function\n",
    "\n",
    "\n",
    "**WARNING!!! You should only call the *objective_function* with a list that has exactly *c* bits set to 1**\n",
    "\n",
    "If this is not the case, then you should assign a fitness value to the individual without calling the external  *objective_function*. You can choose how to set this - the fitness you assign should reflect the fact that the solution is invalid.  For a valid solution, the worst possible fitness is equal to *num_cells*, i.e. no cell is covered. Therefore, the fitness you choose to assign to an invalid solution should be worse than this value"
   ]
  },
  {
   "cell_type": "code",
   "execution_count": 13,
   "metadata": {},
   "outputs": [],
   "source": [
    "\n",
    "# set the correct binary depending on your machine/setup - you need to choose one of the options below and set the path correctly\n",
    "\n",
    "# for MacOS\n",
    "#path_binary = \"/path-to-binary/bit_cam_napier_mac\"\n",
    "#path_binary_vis = \"/path-to-binary/bit_cam_napier_visualisation_mac\"\n",
    "\n",
    "\n",
    "# On Windows: change the following to the location of the binary on your system\n",
    "# path_binary = \"path-to/bit_cam_napier_windows.exe\"\n",
    "# path_binary_vis = \"path-to/bit_cam_napier_visualisation_windows.exe\"\n",
    "\n",
    "\n",
    "# on Colab: YOU MUST UPLOAD THE BINARIES TO COLAB\n",
    "#!chmod 755 -R ./bit_cam_napier_colab\n",
    "#!chmod 755 -R ./bit_cam_napier_visualisation_colab\n",
    "\n",
    "\n",
    "# Do NOT modify this code - this calls an external binary with a solution\n",
    "def objective_function(x, instance_size, nb_cameras, instance_file):\n",
    "    params = ['%.16g' % a for a in x]\n",
    "    cmd = [path_binary,str(instance_size),str(nb_cameras)]+params+[instance_file]\n",
    "    s = subprocess.check_output(cmd)\n",
    "    return float(s)\n",
    "\n",
    "\n",
    "# Do NOT modify: this checks whether a camera is positioned on top of wall in a solution\n",
    "def check_walls(solution, inst):\n",
    "    clashes=0\n",
    "    for i in range(0, len(solution)):\n",
    "        if (walls[i] == 1 and solution[i]==1):\n",
    "            clashes+=1\n",
    "            \n",
    "    return(clashes)\n",
    "        \n"
   ]
  },
  {
   "cell_type": "code",
   "execution_count": 5,
   "metadata": {},
   "outputs": [],
   "source": [
    "# this is the eval function called from DEAP: you can modify this to adapt the fitness for invalid solutions. The fitness of a valid solution\n",
    "# is obtained by calling the binary executable\n",
    "\n",
    "# This is the function where you will likely do most work!\n",
    "\n",
    "def eval_function(individual):\n",
    "\n",
    "  solution=[]\n",
    "\n",
    "  # The fitness function needs to be passed a list of length (where n is the number of cells) where each value is 0 or 1. You must first convert\n",
    "  # the individual passed to this function (a class) to a list\n",
    "\n",
    "  # This code assumes your representation of an individual contains a list of 0,1s and is of length num_cells\n",
    "  # If you have used another representation, you must write your own code to convert it to the form above\n",
    "\n",
    "  for i in range(0, len(individual)):\n",
    "    solution.append(individual[i])\n",
    "\n",
    "  # check how many cameras in the solution - if it does not equal nb_cameras the solution is *invalid*\n",
    "  # if there are cameras placed on a wall, the solution is also invalid\n",
    "  # if the solution is invalid, you must decide what fitness to assign - do *not* call the objective_function\n",
    "\n",
    "  total_cameras = np.sum(solution)\n",
    "    \n",
    "  if instance_file == \"\":\n",
    "    cameras_on_walls = 0\n",
    "  else:\n",
    "    cameras_on_walls = check_walls(solution, instance_file) \n",
    "            \n",
    "                                        \n",
    "# you will need to modify this code before you can run it\n",
    "  if  total_cameras > nb_cameras:\n",
    "    fitness =  # you decide!!!!\n",
    "  elif total_cameras < nb_cameras:\n",
    "    fitness =  # you decide!!\n",
    "  elif cameras_on_walls > 0:\n",
    "    fitness =  # you decide!\n",
    "  else:\n",
    "    # only call this if the solution contains exactly nb_cameras and no cameras on walls,\n",
    "    fitness = objective_function(solution, instance_size, nb_cameras, instance_file)\n",
    "\n",
    "  return fitness,"
   ]
  },
  {
   "cell_type": "markdown",
   "metadata": {},
   "source": [
    "## Set up the DEAP toolbox\n",
    "\n",
    "This sets up a  very basic EA. It uses standard operators to manipulate a list of 0,1s.  You can change these operators for others from the DEAP toolbox or write your own"
   ]
  },
  {
   "cell_type": "code",
   "execution_count": 6,
   "metadata": {},
   "outputs": [],
   "source": [
    "\n",
    "# define the fitness class and creare an individual class - set up as a minimisation problem\n",
    "creator.create(\"FitnessMin\", base.Fitness, weights=(-1.0,))\n",
    "creator.create(\"Individual\", list, fitness=creator.FitnessMin)\n",
    "\n",
    "# create a toolbox\n",
    "toolbox = base.Toolbox()\n",
    "\n",
    "\n",
    "# Define an individual as a list with each value set to 0 or 1, of length num_cells\n",
    "# Attribute generator\n",
    "toolbox.register(\"attr_bool\", random.randint, 0, 1)\n",
    "\n",
    "#an individual consists of repeated genes of type \"attr_bool\"  - we specify num_cells genes\n",
    "toolbox.register(\"individual\", tools.initRepeat, creator.Individual, toolbox.attr_bool, num_cells)\n",
    "\n",
    "#  a population consist of a list of individuals\n",
    "toolbox.register(\"population\", tools.initRepeat, list, toolbox.individual)\n",
    "\n",
    "\n",
    "# register all operators we need with the toolbox\n",
    "toolbox.register(\"evaluate\", eval_function)\n",
    "toolbox.register(\"mate\", tools.cxOnePoint)\n",
    "toolbox.register(\"mutate\", tools.mutFlipBit, indpb=0.05)\n",
    "toolbox.register(\"select\", tools.selTournament, tournsize=2)\n",
    "\n",
    "\n"
   ]
  },
  {
   "cell_type": "code",
   "execution_count": 8,
   "metadata": {},
   "outputs": [],
   "source": [
    "# main function - this just uses a simple EA - you can modify as you wish, including xhanging the parameters\n",
    "\n",
    "# choose these parameters yourself!\n",
    "ngen = 200\n",
    "popsize = 50\n",
    "\n",
    "def main():\n",
    "\n",
    "    # choose a population size: e.g. 50\n",
    "    pop = toolbox.population(n=popsize)\n",
    "\n",
    "    # keep track of the single best solution found\n",
    "    hof = tools.HallOfFame(1)\n",
    "\n",
    "    # create a statistics object: we can log what ever statistics we want using this. We use the numpy Python library\n",
    "    # to calculate the stats and label them with convenient labels\n",
    "    stats = tools.Statistics(lambda ind: ind.fitness.values)\n",
    "    stats.register(\"avg\", np.mean)\n",
    "    stats.register(\"std\", np.std)\n",
    "    stats.register(\"min\", np.min)\n",
    "    stats.register(\"max\", np.max)\n",
    "\n",
    "    # run the algorithm: we need to tell it what parameters to use\n",
    "    # cxpb = crossover probability; mutpb = mutation probability; ngen = number of iterations\n",
    "    pop, log = algorithms.eaSimple(pop, toolbox, cxpb=1.0, mutpb=0.05, ngen=ngen,\n",
    "                                   stats=stats, halloffame=hof, verbose=False)\n",
    "\n",
    "    return pop, log, hof"
   ]
  },
  {
   "cell_type": "markdown",
   "metadata": {},
   "source": [
    "# Experimenting\n",
    "\n",
    "This runs the basic EA once. You can adapt this to run repeated expts. etc."
   ]
  },
  {
   "cell_type": "code",
   "execution_count": 9,
   "metadata": {},
   "outputs": [
    {
     "name": "stdout",
     "output_type": "stream",
     "text": [
      "max fitness found is 44400000.0 at gen 199 \n",
      "number of cameras is 4440\n"
     ]
    }
   ],
   "source": [
    "\n",
    "##############################\n",
    "# run the main function\n",
    "pop, log, hof = main()\n",
    "\n",
    "##############################\n",
    "\n",
    "\n",
    "best = hof[0].fitness.values[0]   # best fitness found is stored at index 0 in the hof list\n",
    "\n",
    "\n",
    "# look in the logbook to see what generation this was found at\n",
    "\n",
    "min = log.select(\"min\")  # min fitness per generation stored in log\n",
    "\n",
    "for i in range(ngen):  # set to ngen\n",
    "        fit = min[i]\n",
    "        if fit == best:\n",
    "            break\n",
    "\n",
    "print(\"max fitness found is %s at gen %s \" % (best, i))\n",
    "print(\"number of cameras is %s\" % (np.sum(hof[0])))\n",
    "\n",
    "\n"
   ]
  },
  {
   "cell_type": "markdown",
   "metadata": {},
   "source": [
    "## Plotting (optional)"
   ]
  },
  {
   "cell_type": "code",
   "execution_count": 10,
   "metadata": {},
   "outputs": [
    {
     "data": {
      "text/plain": [
       "<matplotlib.legend.Legend at 0x7f95d8653250>"
      ]
     },
     "execution_count": 10,
     "metadata": {},
     "output_type": "execute_result"
    },
    {
     "data": {
      "image/png": "[encoded data removed]",
      "text/plain": [
       "<Figure size 432x288 with 1 Axes>"
      ]
     },
     "metadata": {
      "needs_background": "light"
     },
     "output_type": "display_data"
    }
   ],
   "source": [
    "# This is not necessary - but useful to see what is going on for a single run\n",
    "# code for plotting\n",
    "\n",
    "gen = log.select(\"gen\")\n",
    "fit_max = log.select(\"max\")\n",
    "fit_min = log.select(\"min\")\n",
    "fit_avg = log.select(\"avg\")\n",
    "\n",
    "fig, ax1 = plt.subplots()\n",
    "\n",
    "# set this to the number of generations in the EA\n",
    "my_gens=ngen\n",
    "# add a line to indicate \"valid solutions\" i.e solutions with the correct number of cameras. Any solution below this line is valid\n",
    "worst_valid = [num_cells]*(my_gens+1)\n",
    "\n",
    "line1 = ax1.plot(gen, fit_max, \"b-\", label=\"max Fitness\", color=\"r\")\n",
    "line2 = ax1.plot(gen, fit_min, \"b-\", label=\"min Fitness\", color=\"b\")\n",
    "line3 = ax1.plot(gen , fit_avg, \"b-\", label=\"avg Fitness\", color=\"g\")\n",
    "line4 = ax1.plot(gen, worst_valid, \"b-\", label=\"worst valid soluton\", color=\"y\" )\n",
    "ax1.set_xlabel(\"Generations\")\n",
    "ax1.set_ylabel(\"Fitness\", color=\"b\")\n",
    "for tl in ax1.get_yticklabels():\n",
    "    tl.set_color(\"b\")\n",
    "    \n",
    "#plt.ylim(0,num_cells+10)   # change the scale on the graph to see the valid solutions better\n",
    "\n",
    "lns = line1+line2+line3+line4\n",
    "labs = [l.get_label() for l in lns]\n",
    "ax1.legend(lns, labs, loc=\"center right\")\n",
    "\n"
   ]
  },
  {
   "cell_type": "markdown",
   "metadata": {},
   "source": [
    "# Visualisation Tools\n",
    "\n",
    "The code sets up some functions to allow you do visualise solutions. You shouldn't need to alter the code in the cell below (make sure the variable *path_binary_vis* is set to the correct binary at the start)\n",
    "\n"
   ]
  },
  {
   "cell_type": "code",
   "execution_count": 11,
   "metadata": {},
   "outputs": [],
   "source": [
    "\n",
    "# Run this cell to define the functions\n",
    "def solution_converter(index, instance_size):\n",
    "    counter = 0\n",
    "    for i in range(instance_size):\n",
    "        for j in range(instance_size):\n",
    "            if (counter == index):\n",
    "                return i,j\n",
    "            else:\n",
    "                counter+=1\n",
    "\n",
    "# assumes path_binary is already set \n",
    "def visualise_objective_function(x, instance_size, nb_cameras, instance_file):\n",
    "    params = ['%.16g' % a for a in x]\n",
    "    cmd = [path_binary_vis,str(instance_size),str(nb_cameras)]+params+[instance_file]\n",
    "    with open(\"temp_results.csv\",'w') as fd:\n",
    "        s = subprocess.call(cmd, stdout=fd)\n",
    "    # Plotting the probability of detection\n",
    "    data = pd.read_csv(\"temp_results.csv\")\n",
    "    values = np.array(data[\"value\"])\n",
    "    values[values < 0.5] = 0\n",
    "    values = values.reshape(instance_size,instance_size)\n",
    "    plt.imshow(values,cmap=\"Reds\")\n",
    "    # Plotting cameras\n",
    "    cameras_indices = [index for (index, item) in enumerate(list(x)) if item == 1]\n",
    "    for c in cameras_indices:\n",
    "        x,y = solution_converter(c, instance_size=instance_size)\n",
    "        plt.scatter(y,x,c=\"blue\",marker=\"D\")\n",
    "    # Plotting walls (if any)\n",
    "    if (instance_file != \"\"):\n",
    "        walls = pd.read_csv(instance_file,header=None)\n",
    "        plt.scatter(walls[1],walls[0],c=\"black\", marker=\"_\")\n",
    "    plt.xlim(0,instance_size-1)\n",
    "    plt.xlabel(\"x\")\n",
    "    plt.ylim(0,instance_size-1)\n",
    "    plt.ylabel(\"y\")\n",
    "    plt.show()\n",
    "    \n"
   ]
  },
  {
   "cell_type": "markdown",
   "metadata": {},
   "source": [
    "### Visualising a solution\n",
    "\n",
    "Two examples are given:\n",
    "- visualising a random solution\n",
    "- visualising an invidual returned from the EA\n"
   ]
  },
  {
   "cell_type": "code",
   "execution_count": 14,
   "metadata": {},
   "outputs": [
    {
     "data": {
      "image/png": "[encoded data removed]",
      "text/plain": [
       "<Figure size 432x288 with 1 Axes>"
      ]
     },
     "metadata": {
      "needs_background": "light"
     },
     "output_type": "display_data"
    }
   ],
   "source": [
    "# Here we just create a random solution for a 100x100 grid with two cameras at random positions\n",
    "# you can experiment to see what different solutions look like\n",
    "\n",
    "\n",
    "# this assumes a grid of size 100x100 \n",
    "sol = np.zeros(100*100)\n",
    "\n",
    "# add some cameras!\n",
    "sol[random.randint(0, 10000)] = 1\n",
    "sol[random.randint(0, 10000)] = 1\n",
    "sol[random.randint(0, 10000)] = 1\n",
    "sol[random.randint(0, 10000)] = 1\n",
    "sol[random.randint(0, 10000)] = 1\n",
    "\n",
    "actual_cameras=sum(sol)  # need to pass the actual numbers of cameras in the solution, regardless of whether it is valid\n",
    "\n",
    "# choose an empty grid\n",
    "#visualise_objective_function(sol, instance_size= 100, nb_cameras=2, instance_file=\"\")\n",
    "\n",
    "# choose a layout\n",
    "\n",
    "\n",
    "visualise_objective_function(sol, instance_size=instance_size, nb_cameras=actual_cameras, instance_file=myinst)\n"
   ]
  },
  {
   "cell_type": "code",
   "execution_count": 15,
   "metadata": {},
   "outputs": [
    {
     "data": {
      "image/png": "[encoded data removed]",
      "text/plain": [
       "<Figure size 432x288 with 1 Axes>"
      ]
     },
     "metadata": {
      "needs_background": "light"
     },
     "output_type": "display_data"
    }
   ],
   "source": [
    "# here we visualise the best result returned from the algorithm - it assumes an individual is a list of 0,1s. \n",
    "# If your individual uses a different representation then adapt accordingly to reshape into this form\n",
    "\n",
    "# first we need to turn the individual returned into a list\n",
    "best_solution=[]\n",
    "for i in range(0, len(hof[0])):\n",
    "    best_solution.append(hof[0][i])\n",
    "    \n",
    "actual_cameras=sum(best_solution)  # need to give number of cameras in the solution\n",
    "\n",
    "visualise_objective_function(best_solution, instance_size=instance_size, nb_cameras=actual_cameras, instance_file=myinst)"
   ]
  },
  {
   "cell_type": "code",
   "execution_count": null,
   "metadata": {},
   "outputs": [],
   "source": []
  }
 ],
 "metadata": {
  "kernelspec": {
   "display_name": "Python 3",
   "language": "python",
   "name": "python3"
  },
  "language_info": {
   "codemirror_mode": {
    "name": "ipython",
    "version": 3
   },
   "file_extension": ".py",
   "mimetype": "text/x-python",
   "name": "python",
   "nbconvert_exporter": "python",
   "pygments_lexer": "ipython3",
   "version": "3.7.6"
  }
 },
 "nbformat": 4,
 "nbformat_minor": 4
}
