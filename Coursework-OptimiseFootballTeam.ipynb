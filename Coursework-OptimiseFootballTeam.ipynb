{
 "cells": [
  {
   "cell_type": "markdown",
   "metadata": {},
   "source": [
    "# Coursework: Optimisation of a fantasy football team\n",
    "\n",
    "The coursework is described in detail in the documentation provided on Moodle. This notebook contains some code for basic functions that read in the data file and define the solution/constraint checker that you must use to check your final solution.\n",
    "\n",
    "As noted in the coursework, you don't have to use Python or DEAP to tackle this. However, the practicals have covered a lot of functionality that will be useful so you should find that the DEAP libraries provide a quick way to start and will save you some time in writing code.\n",
    "\n",
    "## Important Information\n",
    "\n",
    "If you use another language, then you should write out your solution to a csv file as a comma separated list of 0,1s (one value per row) indicating which players are included, and use the code provided in this notebook to read it in and check it. You report should include the screenshot of the  output from the function provided in this notebook, and *not* your own version of the function\n",
    "\n"
   ]
  },
  {
   "cell_type": "markdown",
   "metadata": {},
   "source": [
    "# Data\n",
    "The code below reads in the datafile and calculates the number of players available.  \n",
    "Change the filepath to your local drive.\n",
    "\n",
    "The file is sorted by player type. As I may check your solution **DO NOT** sort the file or alter it in any way as my code will expect to see it in this format.\n",
    "\n",
    "Feel free to browse the file and analyse the data in any way you think might be useful"
   ]
  },
  {
   "cell_type": "code",
   "execution_count": null,
   "metadata": {},
   "outputs": [],
   "source": [
    "# THIS FUNCTION READS THE DATA FILE CONTAINING THE INFORMATION RE EACH PLAYER\n",
    "\n",
    "# read data\n",
    "data = (pd.read_csv(\"clean-data.csv\")\n",
    "        .reset_index(drop=True))\n",
    "\n",
    "num_players = len(data.index)\n",
    "\n",
    "print(\"num possible players is %s\" % (num_players))\n"
   ]
  },
  {
   "cell_type": "markdown",
   "metadata": {},
   "source": [
    "# Helpful data\n",
    "The code below extracts some useful information from the data that will be useful to you when writing your program. In particular:\n",
    "\n",
    "- a list containing the **points** per player:  e.g. points[i] refers to the **points** associated with player *i*\n",
    "- a list containing the **cost** per player: e.g. cost[i] refers to the **cost** associated with player *i*\n",
    "- a list **gk** which indicates which player is a *goal-keeper*. The list is the same length as the number of players. gk[i]=0 if player *i* is not a goal-keeper; gk[i]=1 if player *i* is a goal-keeper\n",
    "- a list **mid** which indicates which player is a *midfielder*. The list is the same length as the number of players. mid[i]=0 if player *i* is not a mid-fielder; mid[i]=1 if player *i* is a midfielder\n",
    "- a list **defe** which indicates which player is a *defender*. The list is the same length as the number of players. defe[i]=0 if player *i* is not a defender; defe[i]=1 if player *i* is a defender\n",
    "- a list **stri** which indicates which player is a *striker*. The list is the same length as the number of players. stri[i]=0 if player *i* is not a striker; stri[i]=1 if player *i* is a striker"
   ]
  },
  {
   "cell_type": "code",
   "execution_count": null,
   "metadata": {},
   "outputs": [],
   "source": [
    "# HELPFUL DATA \n",
    "# these can be used for calculating points and costs and are also used in the constraint_checking function\n",
    "points = data['Points'] \n",
    "cost = data['Cost']\n",
    "    \n",
    "\n",
    "# create lists with all elements initialised to 0\n",
    "gk = np.zeros(num_players)\n",
    "mid = np.zeros(num_players)\n",
    "defe = np.zeros(num_players)\n",
    "stri = np.zeros(num_players)\n",
    "\n",
    "for i in range(num_players):\n",
    "    if data['Position'][i] == 'GK':\n",
    "        gk[i] = 1\n",
    "    elif data['Position'][i] == 'DEF':\n",
    "        defe[i] = 1\n",
    "    elif data['Position'][i] == 'MID':\n",
    "        mid[i] = 1\n",
    "    elif data['Position'][i] == 'STR':\n",
    "        stri[i]=1\n",
    "  "
   ]
  },
  {
   "cell_type": "markdown",
   "metadata": {},
   "source": [
    "# Solution and constraint checker function\n",
    "\n",
    "You are free to represent an individiual in any way you wish. However, at the end of the evolutionary run, you *must* convert your solution to a list of length *num_players* in which each element is either 0 or 1. An element *i* should be set to 0 if player *i* is not included in the team, and to 1 if player *is* **is** included in the team.\n",
    "\n",
    "You *must* call this function with your best solution and include a screen shot of the output in your report."
   ]
  },
  {
   "cell_type": "code",
   "execution_count": null,
   "metadata": {},
   "outputs": [],
   "source": [
    "# check the constraints\n",
    "# the function MUST be passed a list of length num_players in which each bit is set to 0 or 1\n",
    "\n",
    "\n",
    "def check_constraints(individual):\n",
    "     \n",
    "    broken_constraints = 0\n",
    "\n",
    "    # exactly 11 players\n",
    "    c1 = np.sum(individual)\n",
    "    if  c1 != 11:\n",
    "        broken_constraints+=1\n",
    "        print(\"total players is %s \" %(c1))\n",
    "        \n",
    "    \n",
    "    #need cost <= 100\"\n",
    "    c2 = np.sum(np.multiply(cost, individual)) \n",
    "    if c2 > 100:\n",
    "        broken_constraints+=1\n",
    "        print(\"cost is %s \" %(c2))\n",
    "    \n",
    "    # need only 1 GK\n",
    "    c3 = np.sum(np.multiply(gk, individual))\n",
    "    if  c3 != 1:\n",
    "        broken_constraints+=1\n",
    "        print(\"goalies is %s \" %(c3))\n",
    "    \n",
    "    # need less than 3-5 DEF\"\n",
    "    c4 = np.sum(np.multiply(defe,individual))\n",
    "    if  c4 > 5 or c4 < 3:\n",
    "        broken_constraints+=1\n",
    "        print(\"DEFE is %s \" %(c4))\n",
    "            \n",
    "    #need 3- 5 MID\n",
    "    c5 = np.sum(np.multiply(mid,individual))\n",
    "    if  c5 > 5 or c5 < 3: \n",
    "        broken_constraints+=1\n",
    "        print(\"MID is %s \" %(c5))\n",
    "        \n",
    "    # need 1 -1 3 STR\"\n",
    "    c6 = np.sum(np.multiply(stri,individual))\n",
    "    if c6 > 3 or c6 < 1: \n",
    "        broken_constraints+=1\n",
    "        print(\"STR is %s \" %(c6))\n",
    "        \n",
    "    # get indices of players selected\n",
    "    selectedPlayers = [idx for idx, element in enumerate(individual) if element==1]\n",
    "    \n",
    "    totalpoints = np.sum(np.multiply(points, individual))\n",
    "        \n",
    "        \n",
    "    print(\"total broken constraints: %s\" %(broken_constraints))\n",
    "    print(\"total points: %s\" %(totalpoints))\n",
    "    print(\"total cost is %s\" %(c2))\n",
    "    print(\"selected players are %s\" %(selectedPlayers))\n",
    "    \n",
    "    return broken_constraints, totalpoints"
   ]
  },
  {
   "cell_type": "markdown",
   "metadata": {},
   "source": [
    "# Code to read in saved solution\n",
    "\n",
    "**You only need this code if you have written your coursework using another language and need to check the saved solution. Otherwise, ignore this section**\n",
    "\n",
    "The code below expects you have saved you solution to a csv file. The file should contain 523 rows, each of which has a single value  set to 0 or 1.\n",
    "\n",
    "\n",
    "Once you have read in your data, you will need to:\n",
    "- read in the data file with the player information\n",
    "- run the code in the cell above to create the lists cost/points/gk/defe/mid/stri\n",
    "- run the check_constraints function passing the \"individual\" read from your file using the code below"
   ]
  },
  {
   "cell_type": "code",
   "execution_count": null,
   "metadata": {},
   "outputs": [],
   "source": [
    "import csv\n",
    "\n",
    "with open('pathtofile/mysolution.csv') as csvfile:\n",
    "    readCSV = csv.reader(csvfile, delimiter=',')\n",
    "    individual = []\n",
    "    for row in readCSV:\n",
    "        value=row[0]\n",
    "        individual.append(int(value))\n",
    "\n",
    "print(individual)\n",
    "\n",
    "# check length\n",
    "num_players = len(individual.index)\n",
    "\n",
    "if num_players != 523:\n",
    "    print(\"the solution file does not contain the correct number of variables\")\n",
    "    \n"
   ]
  },
  {
   "cell_type": "code",
   "execution_count": null,
   "metadata": {},
   "outputs": [],
   "source": []
  }
 ],
 "metadata": {
  "kernelspec": {
   "display_name": "Python 3",
   "language": "python",
   "name": "python3"
  },
  "language_info": {
   "codemirror_mode": {
    "name": "ipython",
    "version": 3
   },
   "file_extension": ".py",
   "mimetype": "text/x-python",
   "name": "python",
   "nbconvert_exporter": "python",
   "pygments_lexer": "ipython3",
   "version": "3.7.6"
  }
 },
 "nbformat": 4,
 "nbformat_minor": 4
}
